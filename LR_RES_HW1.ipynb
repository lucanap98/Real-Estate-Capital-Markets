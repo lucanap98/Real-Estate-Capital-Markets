{
  "nbformat": 4,
  "nbformat_minor": 0,
  "metadata": {
    "colab": {
      "provenance": [],
      "authorship_tag": "ABX9TyNBCnJMf4SPpe22qcEYzybD",
      "include_colab_link": true
    },
    "kernelspec": {
      "name": "python3",
      "display_name": "Python 3"
    },
    "language_info": {
      "name": "python"
    }
  },
  "cells": [
    {
      "cell_type": "markdown",
      "metadata": {
        "id": "view-in-github",
        "colab_type": "text"
      },
      "source": [
        "<a href=\"https://colab.research.google.com/github/lucanap98/Real-Estate-Capital-Markets/blob/main/LR_RES_HW1.ipynb\" target=\"_parent\"><img src=\"https://colab.research.google.com/assets/colab-badge.svg\" alt=\"Open In Colab\"/></a>"
      ]
    },
    {
      "cell_type": "code",
      "execution_count": 1,
      "metadata": {
        "colab": {
          "base_uri": "https://localhost:8080/",
          "height": 0
        },
        "id": "_e7ZYS9pUK8m",
        "outputId": "4da5bdb9-e114-4c86-e5a3-f28abfb6c83e"
      },
      "outputs": [
        {
          "output_type": "stream",
          "name": "stdout",
          "text": [
            "The future value of the investment is: $5649.50\n"
          ]
        }
      ],
      "source": [
        "#exercise 3\n",
        "def calculate_fv(present_value, annual_interest_rate, total_years):\n",
        "    \"\"\"\n",
        "    Calculate the future value (FV) of an investment based on compound interest.\n",
        "\n",
        "    Parameters:\n",
        "    - present_value (float): The initial amount of money invested.\n",
        "    - annual_interest_rate (float): The annual interest rate as a decimal (e.g., 0.06 for 6%).\n",
        "    - total_years (int): The number of years the money is invested for.\n",
        "\n",
        "    Returns:\n",
        "    - float: The future value of the investment.\n",
        "    \"\"\"\n",
        "    compounding_periods_per_year = 12  # Monthly compounding\n",
        "    future_value = present_value * (1 + annual_interest_rate / compounding_periods_per_year) ** (compounding_periods_per_year * total_years)\n",
        "    return future_value\n",
        "\n",
        "# Example usage/Different numbers input:\n",
        "initial_investment = 3500  # Initial capital invested\n",
        "interest_rate = 0.06  # Annual interest rate\n",
        "years = 8  # Number of years\n",
        "\n",
        "fv = calculate_fv(initial_investment, interest_rate, years)\n",
        "print(f\"The future value of the investment is: ${fv:.2f}\")\n"
      ]
    },
    {
      "cell_type": "code",
      "source": [
        "#exercise 4\n",
        "def calculate_pv_annuity(annual_payment, interest_rate, total_years):\n",
        "    \"\"\"\n",
        "    Calculate the present value of an annuity based on a fixed interest rate.\n",
        "\n",
        "    Parameters:\n",
        "    - annual_payment (float): The fixed amount paid at the end of each year.\n",
        "    - interest_rate (float): The annual interest rate as a decimal (e.g., 0.04 for 4%).\n",
        "    - total_years (int): The number of years the annuity is paid.\n",
        "\n",
        "    Returns:\n",
        "    - float: The present value of the annuity.\n",
        "    \"\"\"\n",
        "    present_value_annuity = annual_payment * (1 - (1 + interest_rate) ** -total_years) / interest_rate\n",
        "    return present_value_annuity\n",
        "\n",
        "# Example usage:\n",
        "annual_payment = 1750  # Fixed annual payment\n",
        "interest_rate = 0.04  # Annual interest rate\n",
        "years = 10  # Number of years\n",
        "\n",
        "pva = calculate_pv_annuity(annual_payment, interest_rate, years)\n",
        "print(f\"The present value of the annuity is: ${pva:.2f}\")\n"
      ],
      "metadata": {
        "colab": {
          "base_uri": "https://localhost:8080/",
          "height": 0
        },
        "id": "-wbE84L6U5-u",
        "outputId": "eb375277-a8a8-4976-9c2b-5d9a77acc81e"
      },
      "execution_count": 2,
      "outputs": [
        {
          "output_type": "stream",
          "name": "stdout",
          "text": [
            "The present value of the annuity is: $14194.07\n"
          ]
        }
      ]
    },
    {
      "cell_type": "code",
      "source": [
        "#exercise 5\n",
        "def calculate_current_coupon(price1, coupon1, price2, coupon2, target_price=100):\n",
        "    \"\"\"\n",
        "    Calculate the current coupon (hypothetical coupon of par-priced MBS) based on linear interpolation.\n",
        "\n",
        "    Parameters:\n",
        "    - price1 (float): The market price of the first MBS.\n",
        "    - coupon1 (float): The coupon rate of the first MBS.\n",
        "    - price2 (float): The market price of the second MBS.\n",
        "    - coupon2 (float): The coupon rate of the second MBS.\n",
        "    - target_price (float): The target market price of the MBS (default is 100 for par value).\n",
        "\n",
        "    Returns:\n",
        "    - float: The estimated current coupon rate.\n",
        "    \"\"\"\n",
        "    # Linear interpolation formula\n",
        "    current_coupon = coupon1 + (coupon2 - coupon1) * (target_price - price1) / (price2 - price1)\n",
        "    return current_coupon\n",
        "\n",
        "# Example usage\n",
        "price1 = 98.375  # Price of FN 5.5s\n",
        "coupon1 = 5.5  # Coupon rate of FN 5.5s\n",
        "price2 = 100.625  # Price of FN 6s\n",
        "coupon2 = 6.0  # Coupon rate of FN 6s\n",
        "\n",
        "current_coupon = calculate_current_coupon(price1, coupon1, price2, coupon2)\n",
        "print(f\"The current coupon rate for a par-priced MBS is: {current_coupon:.2f}%\")\n"
      ],
      "metadata": {
        "colab": {
          "base_uri": "https://localhost:8080/",
          "height": 0
        },
        "id": "OsOyw9k9VrBg",
        "outputId": "6a91fa12-dadb-4c0f-89e2-186402fcd079"
      },
      "execution_count": 3,
      "outputs": [
        {
          "output_type": "stream",
          "name": "stdout",
          "text": [
            "The current coupon rate for a par-priced MBS is: 5.86%\n"
          ]
        }
      ]
    },
    {
      "cell_type": "code",
      "source": [
        "#exercise 6\n",
        "def mortgage_details(loan_amount, property_value, mortgage_rate, loan_term_years):\n",
        "    \"\"\"\n",
        "    Calculate the loan-to-value (LTV) ratio and discuss eligibility for Fannie Mae/Freddie Mac guarantees.\n",
        "\n",
        "    Parameters:\n",
        "    - loan_amount (float): The amount of the loan/mortgage.\n",
        "    - property_value (float): The purchase price or market value of the property.\n",
        "    - mortgage_rate (float): The annual interest rate of the mortgage.\n",
        "    - loan_term_years (int): The term of the loan in years.\n",
        "\n",
        "    Returns:\n",
        "    - Prints the LTV ratio and discusses the eligibility and PMI requirement.\n",
        "    \"\"\"\n",
        "    ltv_ratio = (loan_amount / property_value) * 100\n",
        "\n",
        "    print(f\"Loan-to-Value (LTV) Ratio: {ltv_ratio:.2f}%\")\n",
        "\n",
        "    if ltv_ratio <= 80:\n",
        "        print(\"This loan is eligible to be guaranteed by Fannie Mae/Freddie Mac without the need for mortgage insurance.\")\n",
        "    else:\n",
        "        print(\"This loan requires the borrower to take out mortgage insurance, as the LTV ratio is above 80%.\")\n",
        "\n",
        "# Example usage\n",
        "loan_amount = 600000  # The amount of the mortgage\n",
        "property_value = 800000  # The value of the house\n",
        "mortgage_rate = 7.0  # The mortgage rate\n",
        "loan_term_years = 30  # The term of the mortgage in years\n",
        "\n",
        "mortgage_details(loan_amount, property_value, mortgage_rate, loan_term_years)\n"
      ],
      "metadata": {
        "colab": {
          "base_uri": "https://localhost:8080/",
          "height": 0
        },
        "id": "KA4RnM_4XU2F",
        "outputId": "5f672f55-b9ce-4459-8920-cc3d56dca7ca"
      },
      "execution_count": 4,
      "outputs": [
        {
          "output_type": "stream",
          "name": "stdout",
          "text": [
            "Loan-to-Value (LTV) Ratio: 75.00%\n",
            "This loan is eligible to be guaranteed by Fannie Mae/Freddie Mac without the need for mortgage insurance.\n"
          ]
        }
      ]
    },
    {
      "cell_type": "code",
      "source": [
        "#exercise 7\n",
        "def calculate_mortgage_details(loan_amount, annual_interest_rate, loan_term_years):\n",
        "    \"\"\"\n",
        "    Calculate various mortgage details including monthly payment, first month's interest and principal,\n",
        "    the month when principal exceeds interest, and the remaining balance after a certain payment.\n",
        "    \"\"\"\n",
        "    # Monthly interest rate and total number of payments\n",
        "    monthly_interest_rate = annual_interest_rate / 12 / 100\n",
        "    total_payments = loan_term_years * 12\n",
        "\n",
        "    # Monthly payment calculation using the formula\n",
        "    monthly_payment = loan_amount * (monthly_interest_rate / (1 - (1 + monthly_interest_rate) ** (-total_payments)))\n",
        "\n",
        "    # Initialize variables to calculate amortization details\n",
        "    remaining_balance = loan_amount\n",
        "    principal_paid_first_month = 0\n",
        "    interest_paid_first_month = 0\n",
        "    principal_exceeds_interest_month = 0\n",
        "    for month in range(1, total_payments + 1):\n",
        "        interest_payment = remaining_balance * monthly_interest_rate\n",
        "        principal_payment = monthly_payment - interest_payment\n",
        "\n",
        "        # Capture first month's principal and interest payments\n",
        "        if month == 1:\n",
        "            principal_paid_first_month = principal_payment\n",
        "            interest_paid_first_month = interest_payment\n",
        "\n",
        "        # Update remaining balance\n",
        "        remaining_balance -= principal_payment\n",
        "\n",
        "        # Check when principal exceeds interest\n",
        "        if principal_payment > interest_payment and principal_exceeds_interest_month == 0:\n",
        "            principal_exceeds_interest_month = month\n",
        "\n",
        "        # Remaining balance after 100th payment\n",
        "        if month == 100:\n",
        "            remaining_balance_after_100_payments = remaining_balance\n",
        "\n",
        "    return monthly_payment, principal_paid_first_month, interest_paid_first_month, principal_exceeds_interest_month, remaining_balance_after_100_payments\n",
        "\n",
        "loan_amount = 600000  # Loan amount\n",
        "annual_interest_rate = 7  # Annual interest rate in percentage\n",
        "loan_term_years = 30  # Loan term in years\n",
        "\n",
        "results = calculate_mortgage_details(loan_amount, annual_interest_rate, loan_term_years)\n",
        "print(f\"a. Monthly payment: ${results[0]:.2f}\")\n",
        "print(f\"b. Principal paid in the first month: ${results[1]:.2f}\")\n",
        "print(f\"   Interest paid in the first month: ${results[2]:.2f}\")\n",
        "print(f\"c. Principal exceeds interest in month: {results[3]}\")\n",
        "print(f\"d. Remaining balance after 100th payment: ${results[4]:.2f}\")\n"
      ],
      "metadata": {
        "colab": {
          "base_uri": "https://localhost:8080/",
          "height": 0
        },
        "id": "rclXDujxc8Z-",
        "outputId": "715d7875-efbb-4187-f8fb-70b837f4483b"
      },
      "execution_count": 5,
      "outputs": [
        {
          "output_type": "stream",
          "name": "stdout",
          "text": [
            "a. Monthly payment: $3991.81\n",
            "b. Principal paid in the first month: $491.81\n",
            "   Interest paid in the first month: $3500.00\n",
            "c. Principal exceeds interest in month: 242\n",
            "d. Remaining balance after 100th payment: $533481.27\n"
          ]
        }
      ]
    },
    {
      "cell_type": "code",
      "source": [
        "#exercise 8\n",
        "def calculate_mortgage_details(loan_amount, annual_interest_rate, loan_term_years):\n",
        "    \"\"\"\n",
        "    Calculate various mortgage details including monthly payment, first month's interest and principal,\n",
        "    the month when principal exceeds interest, and the remaining balance after a certain payment.\n",
        "    \"\"\"\n",
        "    # Monthly interest rate and total number of payments\n",
        "    monthly_interest_rate = annual_interest_rate / 12 / 100\n",
        "    total_payments = loan_term_years * 12\n",
        "\n",
        "    # Monthly payment calculation using the formula\n",
        "    monthly_payment = loan_amount * (monthly_interest_rate / (1 - (1 + monthly_interest_rate) ** (-total_payments)))\n",
        "\n",
        "    # Initialize variables to calculate amortization details\n",
        "    remaining_balance = loan_amount\n",
        "    principal_paid_first_month = 0\n",
        "    interest_paid_first_month = 0\n",
        "    principal_exceeds_interest_month = 0\n",
        "    for month in range(1, total_payments + 1):\n",
        "        interest_payment = remaining_balance * monthly_interest_rate\n",
        "        principal_payment = monthly_payment - interest_payment\n",
        "\n",
        "        # Capture first month's principal and interest payments\n",
        "        if month == 1:\n",
        "            principal_paid_first_month = principal_payment\n",
        "            interest_paid_first_month = interest_payment\n",
        "\n",
        "        # Update remaining balance\n",
        "        remaining_balance -= principal_payment\n",
        "\n",
        "        # Check when principal exceeds interest\n",
        "        if principal_payment > interest_payment and principal_exceeds_interest_month == 0:\n",
        "            principal_exceeds_interest_month = month\n",
        "\n",
        "        # Remaining balance after 100th payment\n",
        "        if month == 100:\n",
        "            remaining_balance_after_100_payments = remaining_balance\n",
        "\n",
        "    return monthly_payment, principal_paid_first_month, interest_paid_first_month, principal_exceeds_interest_month, remaining_balance_after_100_payments\n",
        "\n",
        "loan_amount = 600000  # Loan amount\n",
        "annual_interest_rate = 7  # Annual interest rate in percentage\n",
        "loan_term_years = 15  # Loan term in years\n",
        "\n",
        "results = calculate_mortgage_details(loan_amount, annual_interest_rate, loan_term_years)\n",
        "print(f\"a. Monthly payment: ${results[0]:.2f}\")\n",
        "print(f\"b. Principal paid in the first month: ${results[1]:.2f}\")\n",
        "print(f\"   Interest paid in the first month: ${results[2]:.2f}\")\n",
        "print(f\"c. Principal exceeds interest in month: {results[3]}\")\n",
        "print(f\"d. Remaining balance after 100th payment: ${results[4]:.2f}\")\n"
      ],
      "metadata": {
        "colab": {
          "base_uri": "https://localhost:8080/",
          "height": 0
        },
        "id": "Q-dmFcMfhtfT",
        "outputId": "c4c43e23-2045-4ce8-dd82-7405213b389d"
      },
      "execution_count": 7,
      "outputs": [
        {
          "output_type": "stream",
          "name": "stdout",
          "text": [
            "a. Monthly payment: $5392.97\n",
            "b. Principal paid in the first month: $1892.97\n",
            "   Interest paid in the first month: $3500.00\n",
            "c. Principal exceeds interest in month: 62\n",
            "d. Remaining balance after 100th payment: $343972.94\n"
          ]
        }
      ]
    },
    {
      "cell_type": "code",
      "source": [
        "#exercise 9\n",
        "def calculate_bond_values(face_value, coupon_rate, market_yield, years_to_maturity, par_value=100):\n",
        "    \"\"\"\n",
        "    Calculate various bond metrics including price, Macaulay Duration, Modified Duration, and Dollar Duration.\n",
        "    Also, calculate the expected change in value for a 1 basis point move in yield for a given position size.\n",
        "    \"\"\"\n",
        "    coupon_payment = face_value * coupon_rate\n",
        "    discount_rate = market_yield\n",
        "\n",
        "    # Calculate bond price\n",
        "    bond_price = sum([coupon_payment / (1 + discount_rate) ** n for n in range(1, years_to_maturity + 1)]) + face_value / (1 + discount_rate) ** years_to_maturity\n",
        "\n",
        "    # Calculate Macaulay Duration\n",
        "    weighted_payments = [(n * coupon_payment / (1 + discount_rate) ** n) for n in range(1, years_to_maturity)]\n",
        "    weighted_payments.append(years_to_maturity * (face_value + coupon_payment) / (1 + discount_rate) ** years_to_maturity)\n",
        "    macaulay_duration = sum(weighted_payments) / bond_price\n",
        "\n",
        "    # Calculate Modified Duration\n",
        "    modified_duration = macaulay_duration / (1 + discount_rate)\n",
        "\n",
        "    # Calculate Dollar Duration\n",
        "    dollar_duration = modified_duration * bond_price / 100\n",
        "\n",
        "    # Calculate value change for a $100 million position with a 1 basis point move\n",
        "    position_size = 100000000  # $100 million\n",
        "    value_change_1bp = dollar_duration * position_size * 0.0001  # 1bp move\n",
        "\n",
        "    return round(bond_price, 2), macaulay_duration, modified_duration, dollar_duration, value_change_1bp\n",
        "\n",
        "# Bond details\n",
        "face_value = 100  # Face value of the bond\n",
        "coupon_rate = 0.06  # Annual coupon rate\n",
        "market_yield = 0.07  # Market yield\n",
        "years_to_maturity = 5  # Years to maturity\n",
        "\n",
        "# Calculate bond values\n",
        "bond_values = calculate_bond_values(face_value, coupon_rate, market_yield, years_to_maturity)\n",
        "\n",
        "print(f\"a. Price of the bond: ${bond_values[0]}\")\n",
        "print(f\"b. Macaulay Duration of the bond: {bond_values[1]:.2f} years\")\n",
        "print(f\"c. Modified Duration of the bond: {bond_values[2]:.2f}\")\n",
        "print(f\"d. Dollar Duration of the bond: ${bond_values[3]:,.2f}\")\n",
        "print(f\"e. Expected value change in a 1bp move for a $100mm position: ${bond_values[4]:,.2f}\")\n"
      ],
      "metadata": {
        "colab": {
          "base_uri": "https://localhost:8080/",
          "height": 0
        },
        "id": "ZAmjw5VkiQs0",
        "outputId": "921d64f2-3ed6-4a72-8867-035c0f2836d0"
      },
      "execution_count": 8,
      "outputs": [
        {
          "output_type": "stream",
          "name": "stdout",
          "text": [
            "a. Price of the bond: $95.9\n",
            "b. Macaulay Duration of the bond: 4.45 years\n",
            "c. Modified Duration of the bond: 4.16\n",
            "d. Dollar Duration of the bond: $3.99\n",
            "e. Expected value change in a 1bp move for a $100mm position: $39,904.14\n"
          ]
        }
      ]
    }
  ]
}